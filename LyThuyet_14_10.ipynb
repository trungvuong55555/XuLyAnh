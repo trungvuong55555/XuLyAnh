{
  "nbformat": 4,
  "nbformat_minor": 0,
  "metadata": {
    "colab": {
      "name": "LyThuyet_14_10.ipynb",
      "provenance": [],
      "collapsed_sections": []
    },
    "kernelspec": {
      "name": "python3",
      "display_name": "Python 3"
    },
    "language_info": {
      "name": "python"
    }
  },
  "cells": [
    {
      "cell_type": "code",
      "metadata": {
        "id": "IxINzJE1Q9I-"
      },
      "source": [
        "import numpy as np\n",
        "import cv2\n",
        "import matplotlib.pyplot as plt\n",
        "import copy"
      ],
      "execution_count": null,
      "outputs": []
    },
    {
      "cell_type": "markdown",
      "metadata": {
        "id": "ghJnEYz85ThL"
      },
      "source": [
        "**Phần 1 viết các hàm liên quan**"
      ]
    },
    {
      "cell_type": "code",
      "metadata": {
        "id": "JxVflW8YQ_s-"
      },
      "source": [
        "def TimNguong(image):\n",
        "  vector=[]\n",
        "  for i in np.arange(0,image.shape[1]):\n",
        "    ok= np.max(image[:,i])\n",
        "    vector.append(ok)\n",
        "  return np.min(vector)"
      ],
      "execution_count": null,
      "outputs": []
    },
    {
      "cell_type": "code",
      "metadata": {
        "id": "G58sU6q5REse"
      },
      "source": [
        "def TichChap(img,kernel): \n",
        "  m,n= img.shape\n",
        "\n",
        "  zero = np.zeros((m+2,n+2))\n",
        "  out= np.zeros((m+2,n+2))\n",
        "  zero[1:(m+1),1:(n+1)]= img\n",
        "  for i in np.arange(1,m+1):\n",
        "    for j in np.arange(1,n+1):\n",
        "      out[i,j]= np.sum(zero[i-1:i+2,j-1:j+2]* kernel)\n",
        "\n",
        "  return out[1:m+1,1:n+1]"
      ],
      "execution_count": null,
      "outputs": []
    },
    {
      "cell_type": "code",
      "metadata": {
        "id": "eZH-T_a0RGCl"
      },
      "source": [
        "def sobel(image,Hx,Hy,Thre): #cai nay chi phu hop cho kernel 3*3 \n",
        "  I1 = copy.deepcopy(image)\n",
        "  I2 = copy.deepcopy(image)\n",
        "  \n",
        "  I1 = TichChap(I1,Hx)\n",
        "  I2 = TichChap(I2,Hy)\n",
        "\n",
        "  I3 = np.absolute(I1)+ np.absolute(I2)\n",
        "\n",
        "  I4 = copy.deepcopy(I3)  \n",
        "  \n",
        "  I3[I4<Thre]=0\n",
        "  I3[I4>=Thre]=1\n",
        "\n",
        "  return I3"
      ],
      "execution_count": null,
      "outputs": []
    },
    {
      "cell_type": "code",
      "metadata": {
        "id": "N_VF1Y2QRJvX"
      },
      "source": [
        "def Laplace(image,H):\n",
        "  m,n= image.shape\n",
        "  #b1 tinh tich chap\n",
        "  I1 = TichChap(image,H)\n",
        "  #b2 phan cuc\n",
        "  I2 = copy.deepcopy(I1)\n",
        "  I1[I2<=0]=1\n",
        "  I1[I2>0]=0\n",
        "  #b3 tim bien\n",
        "  I3= copy.deepcopy(I1)\n",
        "  for i in np.arange(0,m):\n",
        "    for j in np.arange(0,n):\n",
        "      if i==0 or i== m-1:\n",
        "        if j==0 or j == n-1:\n",
        "            I1[i,j]=0\n",
        "        else:\n",
        "          if I3[i,j-1]!=I3[i,j+1]:\n",
        "            I1[i,j]=1\n",
        "          else:\n",
        "            I1[i,j]=0\n",
        "\n",
        "      elif j==0 or j== n-1:\n",
        "        if I3[i-1,j]!= I3[i+1,j]:\n",
        "          I1[i,j]=1\n",
        "        else:\n",
        "          I1[i,j]=0\n",
        "\n",
        "      else:\n",
        "        if (I3[i-1,j]!=I3[i+1,j]) or (I3[i,j-1]!=I3[i,j+1]):\n",
        "          I1[i,j]=1\n",
        "        else:\n",
        "          I1[i,j]=0\n",
        "  \n",
        "  return I1"
      ],
      "execution_count": null,
      "outputs": []
    },
    {
      "cell_type": "code",
      "metadata": {
        "id": "h7humBb3VGkK"
      },
      "source": [
        "def sobel1(image,Hx,Hy):\n",
        "  Thre = TimNguong(image)\n",
        "\n",
        "  I1 = copy.deepcopy(image)\n",
        "  I2 = copy.deepcopy(image)\n",
        "  \n",
        "  I1 = TichChap(I1,Hx)\n",
        "  I2 = TichChap(I2,Hy)\n",
        "\n",
        "  I3 = np.absolute(I1)+ np.absolute(I2)\n",
        "\n",
        "  I4 = copy.deepcopy(I3)  \n",
        "  \n",
        "  I3[I4<Thre]=0\n",
        "  I3[I4>=Thre]=1\n",
        "\n",
        "  return I3"
      ],
      "execution_count": null,
      "outputs": []
    },
    {
      "cell_type": "markdown",
      "metadata": {
        "id": "rv7EdLxf9HNU"
      },
      "source": [
        "**Phần 2 Nhập các dữ kiện đề bài**"
      ]
    },
    {
      "cell_type": "code",
      "metadata": {
        "id": "Gch_UfQeRQR-"
      },
      "source": [
        "S = np.array(\n",
        "    [\n",
        "     [9,9,9,9,9,8,8,8],\n",
        "     [9,9,8,8,8,8,8,1],\n",
        "     [9,9,9,8,8,8,1,1],\n",
        "     [7,7,8,8,8,2,1,1],\n",
        "     [7,7,8,8,2,1,1,1],\n",
        "     [7,7,2,2,2,1,1,1],\n",
        "     [7,2,2,1,1,1,1,1],\n",
        "     [7,1,1,1,1,1,1,1]\n",
        "    ]\n",
        ")\n",
        "\n",
        "Hx= np.array(\n",
        "    [\n",
        "      [-1,0,1],\n",
        "      [-1,0,1],\n",
        "      [-1,0,1],\n",
        "    ]\n",
        ")\n",
        "\n",
        "Hy = np.array(\n",
        "    [\n",
        "      [-1,-1,-1],\n",
        "      [0,0,0],\n",
        "      [1,1,1]\n",
        "    ]\n",
        ")\n",
        "H1 = np.array(\n",
        "    [\n",
        "     [0,-1,0],\n",
        "     [-1,4,-1],\n",
        "      [0,-1,0]\n",
        "    ]\n",
        ")\n",
        "Hx1 = np.array(\n",
        "    [\n",
        "     [-1,0,1],\n",
        "     [-2,0,2],\n",
        "     [-1,0,1]\n",
        "    ]\n",
        ")\n",
        "Hy1 = np.array(\n",
        "    [\n",
        "     [-1,-2,1],\n",
        "     [0,0,0],\n",
        "     [1,2,1]\n",
        "    ]\n",
        ")"
      ],
      "execution_count": null,
      "outputs": []
    },
    {
      "cell_type": "markdown",
      "metadata": {
        "id": "TOIcIwO49MGQ"
      },
      "source": [
        "**Phần 3 Bài làm**"
      ]
    },
    {
      "cell_type": "markdown",
      "metadata": {
        "id": "9tzmH7285dM1"
      },
      "source": [
        "**Bài Prewitt**\n",
        "\n",
        "*Bài này mình gọi hàm sobel bởi vì cài đặt 2 thuật toán sobel và prewitt giống nhau*\n"
      ]
    },
    {
      "cell_type": "code",
      "metadata": {
        "colab": {
          "base_uri": "https://localhost:8080/"
        },
        "id": "9XrADYHmVrSY",
        "outputId": "318cc182-0c1c-44a2-f74e-05da4465b304"
      },
      "source": [
        "TichChap(S,Hx)"
      ],
      "execution_count": null,
      "outputs": [
        {
          "output_type": "execute_result",
          "data": {
            "text/plain": [
              "array([[ 18.,  -1.,  -1.,   0.,  -1.,  -1.,  -7., -16.],\n",
              "       [ 27.,  -1.,  -2.,  -1.,  -1.,  -8., -14., -17.],\n",
              "       [ 25.,   0.,  -1.,  -1.,  -6., -14., -15., -10.],\n",
              "       [ 23.,   2.,   1.,  -7., -13., -15.,  -8.,  -3.],\n",
              "       [ 21.,  -3.,  -3.,  -6., -14.,  -9.,  -1.,  -3.],\n",
              "       [ 16.,  -9.,  -5.,  -7.,  -8.,  -2.,   0.,  -3.],\n",
              "       [ 10., -16.,  -6.,  -1.,  -1.,  -1.,   0.,  -3.],\n",
              "       [  3., -11.,  -1.,  -1.,   0.,   0.,   0.,  -2.]])"
            ]
          },
          "metadata": {},
          "execution_count": 41
        }
      ]
    },
    {
      "cell_type": "code",
      "metadata": {
        "colab": {
          "base_uri": "https://localhost:8080/"
        },
        "id": "r3c-sVWJWuqq",
        "outputId": "fd9aeb88-c3f2-41c2-b918-37ccbbc0efbf"
      },
      "source": [
        "TichChap(S,Hy)"
      ],
      "execution_count": null,
      "outputs": [
        {
          "output_type": "execute_result",
          "data": {
            "text/plain": [
              "array([[ 18.,  26.,  25.,  24.,  24.,  24.,  17.,   9.],\n",
              "       [  0.,   0.,  -1.,  -2.,  -2.,  -8., -14., -14.],\n",
              "       [ -4.,  -4.,  -2.,   0.,  -6., -13., -13.,  -7.],\n",
              "       [ -4.,  -5.,  -3.,  -7., -13., -13.,  -7.,   0.],\n",
              "       [  0.,  -6., -12., -18., -13.,  -7.,  -1.,   0.],\n",
              "       [ -5., -11., -18., -14.,  -8.,  -1.,   0.,   0.],\n",
              "       [ -6.,  -7.,  -8.,  -3.,  -2.,  -1.,   0.,   0.],\n",
              "       [ -9., -11.,  -5.,  -4.,  -3.,  -3.,  -3.,  -2.]])"
            ]
          },
          "metadata": {},
          "execution_count": 42
        }
      ]
    },
    {
      "cell_type": "code",
      "metadata": {
        "colab": {
          "base_uri": "https://localhost:8080/"
        },
        "id": "T985ow2cXsvg",
        "outputId": "73538990-a507-49c5-fb45-78a063437ed6"
      },
      "source": [
        "np.absolute(TichChap(S,Hx))+np.absolute(TichChap(S,Hy))"
      ],
      "execution_count": null,
      "outputs": [
        {
          "output_type": "execute_result",
          "data": {
            "text/plain": [
              "array([[36., 27., 26., 24., 25., 25., 24., 25.],\n",
              "       [27.,  1.,  3.,  3.,  3., 16., 28., 31.],\n",
              "       [29.,  4.,  3.,  1., 12., 27., 28., 17.],\n",
              "       [27.,  7.,  4., 14., 26., 28., 15.,  3.],\n",
              "       [21.,  9., 15., 24., 27., 16.,  2.,  3.],\n",
              "       [21., 20., 23., 21., 16.,  3.,  0.,  3.],\n",
              "       [16., 23., 14.,  4.,  3.,  2.,  0.,  3.],\n",
              "       [12., 22.,  6.,  5.,  3.,  3.,  3.,  4.]])"
            ]
          },
          "metadata": {},
          "execution_count": 43
        }
      ]
    },
    {
      "cell_type": "code",
      "metadata": {
        "colab": {
          "base_uri": "https://localhost:8080/"
        },
        "id": "vm2KLQ6hYfO_",
        "outputId": "6dd9dff3-2ee8-4e16-dcab-904a44d67b46"
      },
      "source": [
        "thetha = TimNguong(S)\n",
        "thetha"
      ],
      "execution_count": null,
      "outputs": [
        {
          "output_type": "execute_result",
          "data": {
            "text/plain": [
              "8"
            ]
          },
          "metadata": {},
          "execution_count": 44
        }
      ]
    },
    {
      "cell_type": "code",
      "metadata": {
        "colab": {
          "base_uri": "https://localhost:8080/"
        },
        "id": "YnB5Flh-cyvw",
        "outputId": "37d32e55-a4c4-46a9-95fc-a1db62159dfe"
      },
      "source": [
        "sobel(S,Hx,Hy,thetha)"
      ],
      "execution_count": null,
      "outputs": [
        {
          "output_type": "execute_result",
          "data": {
            "text/plain": [
              "array([[1., 1., 1., 1., 1., 1., 1., 1.],\n",
              "       [1., 0., 0., 0., 0., 1., 1., 1.],\n",
              "       [1., 0., 0., 0., 1., 1., 1., 1.],\n",
              "       [1., 0., 0., 1., 1., 1., 1., 0.],\n",
              "       [1., 1., 1., 1., 1., 1., 0., 0.],\n",
              "       [1., 1., 1., 1., 1., 0., 0., 0.],\n",
              "       [1., 1., 1., 0., 0., 0., 0., 0.],\n",
              "       [1., 1., 0., 0., 0., 0., 0., 0.]])"
            ]
          },
          "metadata": {},
          "execution_count": 45
        }
      ]
    },
    {
      "cell_type": "code",
      "metadata": {
        "colab": {
          "base_uri": "https://localhost:8080/",
          "height": 265
        },
        "id": "MEha9NtOdmt3",
        "outputId": "2690bdfe-a54a-44c4-856e-145903c02d71"
      },
      "source": [
        "plt.imshow(sobel(S,Hx,Hy,thetha),cmap=\"gray\")\n",
        "plt.show()"
      ],
      "execution_count": null,
      "outputs": [
        {
          "output_type": "display_data",
          "data": {
            "image/png": "[encoded data removed]",
            "text/plain": [
              "<Figure size 432x288 with 1 Axes>"
            ]
          },
          "metadata": {
            "needs_background": "light"
          }
        }
      ]
    },
    {
      "cell_type": "markdown",
      "metadata": {
        "id": "bcVrLuuk5yJj"
      },
      "source": [
        "**Bài Sobel**"
      ]
    },
    {
      "cell_type": "code",
      "metadata": {
        "colab": {
          "base_uri": "https://localhost:8080/"
        },
        "id": "LFyy85hB6Ea6",
        "outputId": "882533d4-eccc-4e78-aac5-7702ba9a09ce"
      },
      "source": [
        "TichChap(S,Hx1)"
      ],
      "execution_count": null,
      "outputs": [
        {
          "output_type": "execute_result",
          "data": {
            "text/plain": [
              "array([[ 27.,  -1.,  -1.,   0.,  -2.,  -2.,  -7., -24.],\n",
              "       [ 36.,  -2.,  -3.,  -1.,  -1.,  -8., -21., -25.],\n",
              "       [ 34.,   0.,  -2.,  -2.,  -6., -21., -22., -11.],\n",
              "       [ 30.,   3.,   2.,  -7., -19., -22.,  -9.,  -4.],\n",
              "       [ 28.,  -2.,  -2., -12., -21., -10.,  -1.,  -4.],\n",
              "       [ 23., -14., -10.,  -7.,  -9.,  -3.,   0.,  -4.],\n",
              "       [ 12., -21.,  -7.,  -2.,  -1.,  -1.,   0.,  -4.],\n",
              "       [  4., -17.,  -1.,  -1.,   0.,   0.,   0.,  -3.]])"
            ]
          },
          "metadata": {},
          "execution_count": 47
        }
      ]
    },
    {
      "cell_type": "code",
      "metadata": {
        "colab": {
          "base_uri": "https://localhost:8080/"
        },
        "id": "--qALlpq6HoM",
        "outputId": "0f0a3dd0-1d7d-414e-db99-5c7a59bbf10a"
      },
      "source": [
        "TichChap(S,Hy1)"
      ],
      "execution_count": null,
      "outputs": [
        {
          "output_type": "execute_result",
          "data": {
            "text/plain": [
              "array([[ 27.,  35.,  33.,  32.,  32.,  32.,  25.,  10.],\n",
              "       [ 18.,  18.,  17.,  15.,  13.,   8.,  -5., -21.],\n",
              "       [ 12.,  10.,  14.,  16.,  10.,  -3., -18.,  -7.],\n",
              "       [ 12.,  11.,  12.,   9.,  -3., -18.,  -5.,   0.],\n",
              "       [ 14.,  10.,  -2.,  -8., -15.,  -6.,   1.,   0.],\n",
              "       [  9.,   0.,  -8., -17.,  -7.,   1.,   2.,   0.],\n",
              "       [  8.,  -9.,  -5.,   0.,  -1.,   1.,   2.,   0.],\n",
              "       [-12.,  -9.,  -5.,  -3.,  -2.,  -2.,  -2.,  -3.]])"
            ]
          },
          "metadata": {},
          "execution_count": 48
        }
      ]
    },
    {
      "cell_type": "code",
      "metadata": {
        "colab": {
          "base_uri": "https://localhost:8080/"
        },
        "id": "QDWhAsjY6KSJ",
        "outputId": "1bfa0db6-c070-4a57-f92a-b1b2438a34f8"
      },
      "source": [
        "np.absolute(TichChap(S,Hx1))+np.absolute(TichChap(S,Hy1))"
      ],
      "execution_count": null,
      "outputs": [
        {
          "output_type": "execute_result",
          "data": {
            "text/plain": [
              "array([[54., 36., 34., 32., 34., 34., 32., 34.],\n",
              "       [54., 20., 20., 16., 14., 16., 26., 46.],\n",
              "       [46., 10., 16., 18., 16., 24., 40., 18.],\n",
              "       [42., 14., 14., 16., 22., 40., 14.,  4.],\n",
              "       [42., 12.,  4., 20., 36., 16.,  2.,  4.],\n",
              "       [32., 14., 18., 24., 16.,  4.,  2.,  4.],\n",
              "       [20., 30., 12.,  2.,  2.,  2.,  2.,  4.],\n",
              "       [16., 26.,  6.,  4.,  2.,  2.,  2.,  6.]])"
            ]
          },
          "metadata": {},
          "execution_count": 49
        }
      ]
    },
    {
      "cell_type": "code",
      "metadata": {
        "colab": {
          "base_uri": "https://localhost:8080/"
        },
        "id": "kE7iaTVZ6d07",
        "outputId": "d8c78e91-e13c-4582-e3e5-d0a5f63bcf0b"
      },
      "source": [
        "sobel(S,Hx1,Hy1,thetha)"
      ],
      "execution_count": null,
      "outputs": [
        {
          "output_type": "execute_result",
          "data": {
            "text/plain": [
              "array([[1., 1., 1., 1., 1., 1., 1., 1.],\n",
              "       [1., 1., 1., 1., 1., 1., 1., 1.],\n",
              "       [1., 1., 1., 1., 1., 1., 1., 1.],\n",
              "       [1., 1., 1., 1., 1., 1., 1., 0.],\n",
              "       [1., 1., 0., 1., 1., 1., 0., 0.],\n",
              "       [1., 1., 1., 1., 1., 0., 0., 0.],\n",
              "       [1., 1., 1., 0., 0., 0., 0., 0.],\n",
              "       [1., 1., 0., 0., 0., 0., 0., 0.]])"
            ]
          },
          "metadata": {},
          "execution_count": 50
        }
      ]
    },
    {
      "cell_type": "code",
      "metadata": {
        "colab": {
          "base_uri": "https://localhost:8080/",
          "height": 265
        },
        "id": "-0OVJ7Qb6qND",
        "outputId": "adc6f958-6621-44b6-d420-131358ebcb50"
      },
      "source": [
        "plt.imshow(sobel(S,Hx1,Hy1,thetha),cmap=\"gray\")\n",
        "plt.show()"
      ],
      "execution_count": null,
      "outputs": [
        {
          "output_type": "display_data",
          "data": {
            "image/png": "[encoded data removed]",
            "text/plain": [
              "<Figure size 432x288 with 1 Axes>"
            ]
          },
          "metadata": {
            "needs_background": "light"
          }
        }
      ]
    },
    {
      "cell_type": "markdown",
      "metadata": {
        "id": "Uo3MyPY461wr"
      },
      "source": [
        "**So sánh prewitt và sobel**"
      ]
    },
    {
      "cell_type": "code",
      "metadata": {
        "colab": {
          "base_uri": "https://localhost:8080/",
          "height": 377
        },
        "id": "RKSOE-Ku61Br",
        "outputId": "506e8fe5-2a26-4fb2-ccc2-98800c35cbc0"
      },
      "source": [
        "plt.figure(figsize=(20,6))\n",
        "plt.subplot(121) , plt.imshow(sobel(S,Hx,Hy,thetha),cmap=\"gray\"), plt.title(\"Hình ảnh thuật toán Prewitt\")\n",
        "plt.xticks([]), plt.yticks([])\n",
        "plt.subplot(122) , plt.imshow(sobel(S,Hx1,Hy1,thetha),cmap=\"gray\"), plt.title(\"Hình ảnh với thuật toán Sobel \")\n",
        "plt.xticks([]), plt.yticks([])\n",
        "plt.show()"
      ],
      "execution_count": null,
      "outputs": [
        {
          "output_type": "display_data",
          "data": {
            "image/png": "[encoded data removed]",
            "text/plain": [
              "<Figure size 1440x432 with 2 Axes>"
            ]
          },
          "metadata": {}
        }
      ]
    },
    {
      "cell_type": "markdown",
      "metadata": {
        "id": "mXwn6exdZdbY"
      },
      "source": [
        "**Bài Laplace**"
      ]
    },
    {
      "cell_type": "code",
      "metadata": {
        "colab": {
          "base_uri": "https://localhost:8080/"
        },
        "id": "8xy3zg05Zjqn",
        "outputId": "b75689c5-64cb-43c6-bc85-65fa713882d5"
      },
      "source": [
        "TichChap(S,H1)"
      ],
      "execution_count": null,
      "outputs": [
        {
          "output_type": "execute_result",
          "data": {
            "text/plain": [
              "array([[ 18.,   9.,  10.,  10.,  11.,   7.,   8.,  23.],\n",
              "       [  9.,   1.,  -3.,  -1.,  -1.,   0.,  14., -13.],\n",
              "       [ 11.,   2.,   3.,  -1.,   0.,  13., -14.,   1.],\n",
              "       [  5.,  -3.,   0.,   0.,  12., -10.,  -1.,   1.],\n",
              "       [  7.,  -1.,   7.,  12., -11.,  -2.,   0.,   1.],\n",
              "       [  7.,  10., -11.,  -5.,   2.,  -1.,   0.,   1.],\n",
              "       [ 12.,  -9.,   2.,  -2.,  -1.,   0.,   0.,   1.],\n",
              "       [ 20.,  -6.,   0.,   1.,   1.,   1.,   1.,   2.]])"
            ]
          },
          "metadata": {},
          "execution_count": 53
        }
      ]
    },
    {
      "cell_type": "code",
      "metadata": {
        "colab": {
          "base_uri": "https://localhost:8080/"
        },
        "id": "OBMqAu33bFEf",
        "outputId": "9c19d904-b32f-43f5-e2ac-97ccc4bb1190"
      },
      "source": [
        "Laplace(S,H1)"
      ],
      "execution_count": null,
      "outputs": [
        {
          "output_type": "execute_result",
          "data": {
            "text/plain": [
              "array([[0., 0., 0., 0., 0., 0., 0., 0.],\n",
              "       [0., 1., 1., 1., 1., 1., 1., 0.],\n",
              "       [0., 1., 1., 1., 1., 0., 1., 1.],\n",
              "       [0., 1., 0., 1., 0., 1., 1., 0.],\n",
              "       [0., 1., 1., 1., 1., 0., 1., 0.],\n",
              "       [0., 1., 1., 1., 0., 1., 1., 0.],\n",
              "       [0., 1., 0., 1., 0., 1., 1., 0.],\n",
              "       [0., 1., 1., 1., 0., 0., 0., 0.]])"
            ]
          },
          "metadata": {},
          "execution_count": 54
        }
      ]
    },
    {
      "cell_type": "code",
      "metadata": {
        "colab": {
          "base_uri": "https://localhost:8080/",
          "height": 265
        },
        "id": "TEXoXn9ed1zP",
        "outputId": "622aef15-9123-47c6-de0d-a413b1b719ce"
      },
      "source": [
        "plt.imshow(Laplace(S,H1),cmap=\"gray\")\n",
        "plt.show()"
      ],
      "execution_count": null,
      "outputs": [
        {
          "output_type": "display_data",
          "data": {
            "image/png": "[encoded data removed]",
            "text/plain": [
              "<Figure size 432x288 with 1 Axes>"
            ]
          },
          "metadata": {
            "needs_background": "light"
          }
        }
      ]
    }
  ]
}